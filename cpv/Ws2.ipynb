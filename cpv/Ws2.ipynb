{
 "cells": [
  {
   "cell_type": "code",
   "execution_count": 1,
   "metadata": {},
   "outputs": [],
   "source": [
    "import cv2\n",
    "import numpy as np\n",
    "import tkinter as tk\n",
    "from tkinter import Scale\n",
    "import matplotlib.pyplot as plt"
   ]
  },
  {
   "attachments": {},
   "cell_type": "markdown",
   "metadata": {},
   "source": [
    "#### Function 1: color balance, to perform this function, the user needs to enter the necessary parameters to perform color balance. \n",
    "#### (can use the slider to represent it visually) "
   ]
  },
  {
   "cell_type": "code",
   "execution_count": 6,
   "metadata": {},
   "outputs": [],
   "source": [
    "def update_image(value):\n",
    "    # Get the current values of the sliders\n",
    "    r = red_scale.get()\n",
    "    g = green_scale.get()\n",
    "    b = blue_scale.get()\n",
    "\n",
    "    # Perform color balance\n",
    "    image_balanced = cv2.merge((\n",
    "        np.clip(r * image[:, :, 0], 0, 255).astype(np.uint8),\n",
    "        np.clip(g * image[:, :, 1], 0, 255).astype(np.uint8),\n",
    "        np.clip(b * image[:, :, 2], 0, 255).astype(np.uint8),\n",
    "    ))\n",
    "\n",
    "    # Update the displayed image\n",
    "    cv2.imshow(\"Image\", image_balanced)\n",
    "\n",
    "# Load an example image\n",
    "image = cv2.imread(\"Img.jpg\")\n",
    "\n",
    "# Create the GUI window\n",
    "root = tk.Tk()\n",
    "root.title(\"Color Balance\")\n",
    "\n",
    "# Add the sliders to adjust red, green, and blue channels\n",
    "red_scale = Scale(root, from_=0.0, to=2.0, resolution=0.01, orient=tk.HORIZONTAL, label=\"Blue\", command=update_image)\n",
    "red_scale.set(1.0)\n",
    "red_scale.pack()\n",
    "\n",
    "green_scale = Scale(root, from_=0.0, to=2.0, resolution=0.01, orient=tk.HORIZONTAL, label=\"Green\", command=update_image)\n",
    "green_scale.set(1.0)\n",
    "green_scale.pack()\n",
    "\n",
    "blue_scale = Scale(root, from_=0.0, to=2.0, resolution=0.01, orient=tk.HORIZONTAL, label=\"Red\", command=update_image)\n",
    "blue_scale.set(1.0)\n",
    "blue_scale.pack()\n",
    "\n",
    "# Show the initial image\n",
    "cv2.imshow(\"Image\", image)\n",
    "\n",
    "# Start the GUI event loop\n",
    "root.mainloop()\n",
    "cv2.destroyAllWindows()"
   ]
  },
  {
   "attachments": {},
   "cell_type": "markdown",
   "metadata": {},
   "source": [
    "#### Function 2: Show histogram and enter the necessary information to perform histogram equalization. "
   ]
  },
  {
   "cell_type": "code",
   "execution_count": 2,
   "metadata": {},
   "outputs": [
    {
     "data": {
      "image/png": "[encoded data removed]",
      "text/plain": [
       "<Figure size 640x480 with 2 Axes>"
      ]
     },
     "metadata": {},
     "output_type": "display_data"
    }
   ],
   "source": [
    "img = cv2.imread('img.jpg', 0)\n",
    "\n",
    "# Perform histogram equalization\n",
    "eq_img = cv2.equalizeHist(img)\n",
    "\n",
    "# Plot the original and equalized histograms\n",
    "plt.subplot(121)\n",
    "plt.hist(img.ravel(), 256, [0, 256])\n",
    "plt.title('Original Histogram')\n",
    "\n",
    "plt.subplot(122)\n",
    "plt.hist(eq_img.ravel(), 256, [0, 256])\n",
    "plt.title('Equalized Histogram')\n",
    "\n",
    "plt.show()\n"
   ]
  },
  {
   "attachments": {},
   "cell_type": "markdown",
   "metadata": {},
   "source": [
    "#### Function 3: implement the median filter to remove noise in the image(salt and pepper noise) "
   ]
  },
  {
   "cell_type": "code",
   "execution_count": null,
   "metadata": {},
   "outputs": [],
   "source": [
    "# Load an example image with salt and pepper noise\n",
    "image = cv2.imread(\"noiseimg.jpg\", cv2.IMREAD_GRAYSCALE)\n",
    "\n",
    "# Perform median filtering\n",
    "median = cv2.medianBlur(image, 3)\n",
    "\n",
    "# Plot the original and filtered images\n",
    "plt.subplot(121), plt.imshow(image, cmap=\"gray\", vmin=0, vmax=255)\n",
    "plt.title(\"Noisy Image\")\n",
    "plt.subplot(122), plt.imshow(median, cmap=\"gray\", vmin=0, vmax=255)\n",
    "plt.title(\"Filtered Image\")\n",
    "\n",
    "# Show the plot\n",
    "plt.show()\n"
   ]
  },
  {
   "attachments": {},
   "cell_type": "markdown",
   "metadata": {},
   "source": [
    "#### Function 4: implement the Mean filter to remove noise in image (salt and pepper noise) "
   ]
  },
  {
   "cell_type": "code",
   "execution_count": null,
   "metadata": {},
   "outputs": [],
   "source": [
    "# Load an example image with salt and pepper noise\n",
    "image = cv2.imread(\"noiseimg.jpg\", cv2.IMREAD_GRAYSCALE)\n",
    "\n",
    "# Perform mean filtering\n",
    "mean = cv2.blur(image, (3, 3))\n",
    "\n",
    "# Plot the original and filtered images\n",
    "plt.subplot(121), plt.imshow(image, cmap=\"gray\", vmin=0, vmax=255)\n",
    "plt.title(\"Noisy Image\")\n",
    "plt.subplot(122), plt.imshow(mean, cmap=\"gray\", vmin=0, vmax=255)\n",
    "plt.title(\"Filtered Image\")\n",
    "\n",
    "# Show the plot\n",
    "plt.show()\n"
   ]
  },
  {
   "attachments": {},
   "cell_type": "markdown",
   "metadata": {},
   "source": [
    "#### Function 5: implement Gaussian smoothing to perform image smoothing. "
   ]
  },
  {
   "cell_type": "code",
   "execution_count": 3,
   "metadata": {},
   "outputs": [],
   "source": [
    "def gaussian_smoothing(image, kernel_size, sigma):\n",
    "    # Create a 2D Gaussian filter\n",
    "    kernel = cv2.getGaussianKernel(kernel_size, sigma)\n",
    "    kernel = kernel * kernel.T\n",
    "    \n",
    "    # Apply the filter to the image\n",
    "    smoothed_image = cv2.filter2D(image, -1, kernel)\n",
    "    \n",
    "    return smoothed_image\n",
    "\n",
    "# Load an image\n",
    "image = cv2.imread(\"noiseimg.jpg\", 0)\n",
    "\n",
    "# Apply Gaussian smoothing to the image\n",
    "kernel_size = 3\n",
    "sigma = 0.5\n",
    "smoothed_image = gaussian_smoothing(image, kernel_size, sigma)\n",
    "\n",
    "# Display the original and smoothed images\n",
    "cv2.imshow(\"Original\", image)\n",
    "cv2.imshow(\"Smoothed\", smoothed_image)\n",
    "cv2.waitKey(0)\n",
    "cv2.destroyAllWindows()\n"
   ]
  }
 ],
 "metadata": {
  "kernelspec": {
   "display_name": "Python 3",
   "language": "python",
   "name": "python3"
  },
  "language_info": {
   "codemirror_mode": {
    "name": "ipython",
    "version": 3
   },
   "file_extension": ".py",
   "mimetype": "text/x-python",
   "name": "python",
   "nbconvert_exporter": "python",
   "pygments_lexer": "ipython3",
   "version": "3.10.10"
  },
  "orig_nbformat": 4,
  "vscode": {
   "interpreter": {
    "hash": "5604e7158d187150e1d489782589586ce54aa3b62a185b719329b048775d925a"
   }
  }
 },
 "nbformat": 4,
 "nbformat_minor": 2
}
