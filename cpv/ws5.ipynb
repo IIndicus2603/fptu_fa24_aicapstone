{
 "cells": [
  {
   "cell_type": "code",
   "execution_count": null,
   "metadata": {},
   "outputs": [],
   "source": [
    "import numpy as np\n",
    "import cv2"
   ]
  },
  {
   "cell_type": "code",
   "execution_count": 1,
   "metadata": {},
   "outputs": [
    {
     "ename": "FileNotFoundError",
     "evalue": "[Errno 2] No such file or directory: 'Test1.jpg'",
     "output_type": "error",
     "traceback": [
      "\u001b[1;31m---------------------------------------------------------------------------\u001b[0m",
      "\u001b[1;31mFileNotFoundError\u001b[0m                         Traceback (most recent call last)",
      "Cell \u001b[1;32mIn[1], line 6\u001b[0m\n\u001b[0;32m      3\u001b[0m \u001b[39mfrom\u001b[39;00m \u001b[39mPIL\u001b[39;00m \u001b[39mimport\u001b[39;00m Image\n\u001b[0;32m      5\u001b[0m list_im \u001b[39m=\u001b[39m [\u001b[39m'\u001b[39m\u001b[39mTest1.jpg\u001b[39m\u001b[39m'\u001b[39m, \u001b[39m'\u001b[39m\u001b[39mTest2.jpg\u001b[39m\u001b[39m'\u001b[39m, \u001b[39m'\u001b[39m\u001b[39mTest3.jpg\u001b[39m\u001b[39m'\u001b[39m]\n\u001b[1;32m----> 6\u001b[0m imgs    \u001b[39m=\u001b[39m [ Image\u001b[39m.\u001b[39mopen(i) \u001b[39mfor\u001b[39;00m i \u001b[39min\u001b[39;00m list_im ]\n\u001b[0;32m      7\u001b[0m \u001b[39m# pick the image which is the smallest, and resize the others to match it (can be arbitrary image shape here)\u001b[39;00m\n\u001b[0;32m      8\u001b[0m min_shape \u001b[39m=\u001b[39m \u001b[39msorted\u001b[39m( [(np\u001b[39m.\u001b[39msum(i\u001b[39m.\u001b[39msize), i\u001b[39m.\u001b[39msize ) \u001b[39mfor\u001b[39;00m i \u001b[39min\u001b[39;00m imgs])[\u001b[39m0\u001b[39m][\u001b[39m1\u001b[39m]\n",
      "Cell \u001b[1;32mIn[1], line 6\u001b[0m, in \u001b[0;36m<listcomp>\u001b[1;34m(.0)\u001b[0m\n\u001b[0;32m      3\u001b[0m \u001b[39mfrom\u001b[39;00m \u001b[39mPIL\u001b[39;00m \u001b[39mimport\u001b[39;00m Image\n\u001b[0;32m      5\u001b[0m list_im \u001b[39m=\u001b[39m [\u001b[39m'\u001b[39m\u001b[39mTest1.jpg\u001b[39m\u001b[39m'\u001b[39m, \u001b[39m'\u001b[39m\u001b[39mTest2.jpg\u001b[39m\u001b[39m'\u001b[39m, \u001b[39m'\u001b[39m\u001b[39mTest3.jpg\u001b[39m\u001b[39m'\u001b[39m]\n\u001b[1;32m----> 6\u001b[0m imgs    \u001b[39m=\u001b[39m [ Image\u001b[39m.\u001b[39;49mopen(i) \u001b[39mfor\u001b[39;00m i \u001b[39min\u001b[39;00m list_im ]\n\u001b[0;32m      7\u001b[0m \u001b[39m# pick the image which is the smallest, and resize the others to match it (can be arbitrary image shape here)\u001b[39;00m\n\u001b[0;32m      8\u001b[0m min_shape \u001b[39m=\u001b[39m \u001b[39msorted\u001b[39m( [(np\u001b[39m.\u001b[39msum(i\u001b[39m.\u001b[39msize), i\u001b[39m.\u001b[39msize ) \u001b[39mfor\u001b[39;00m i \u001b[39min\u001b[39;00m imgs])[\u001b[39m0\u001b[39m][\u001b[39m1\u001b[39m]\n",
      "File \u001b[1;32m~\\AppData\\Local\\Packages\\PythonSoftwareFoundation.Python.3.10_qbz5n2kfra8p0\\LocalCache\\local-packages\\Python310\\site-packages\\PIL\\Image.py:3227\u001b[0m, in \u001b[0;36mopen\u001b[1;34m(fp, mode, formats)\u001b[0m\n\u001b[0;32m   3224\u001b[0m     filename \u001b[39m=\u001b[39m fp\n\u001b[0;32m   3226\u001b[0m \u001b[39mif\u001b[39;00m filename:\n\u001b[1;32m-> 3227\u001b[0m     fp \u001b[39m=\u001b[39m builtins\u001b[39m.\u001b[39;49mopen(filename, \u001b[39m\"\u001b[39;49m\u001b[39mrb\u001b[39;49m\u001b[39m\"\u001b[39;49m)\n\u001b[0;32m   3228\u001b[0m     exclusive_fp \u001b[39m=\u001b[39m \u001b[39mTrue\u001b[39;00m\n\u001b[0;32m   3230\u001b[0m \u001b[39mtry\u001b[39;00m:\n",
      "\u001b[1;31mFileNotFoundError\u001b[0m: [Errno 2] No such file or directory: 'Test1.jpg'"
     ]
    }
   ],
   "source": [
    "import tkinter as tk\n",
    "import pyautogui\n",
    "\n",
    "class MouseActionApp:\n",
    "    def __init__(self, master):\n",
    "        self.master = master\n",
    "        master.title(\"Mouse Action App\")\n",
    "\n",
    "        self.button1 = tk.Button(master, text=\"Click\", command=self.mouse_click)\n",
    "        self.button1.pack()\n",
    "\n",
    "        self.button2 = tk.Button(master, text=\"Double Click\", command=self.mouse_double_click)\n",
    "        self.button2.pack()\n",
    "\n",
    "        self.button3 = tk.Button(master, text=\"Right Click\", command=self.mouse_right_click)\n",
    "        self.button3.pack()\n",
    "\n",
    "        self.button4 = tk.Button(master, text=\"Move to (300, 300)\", command=self.mouse_move)\n",
    "        self.button4.pack()\n",
    "\n",
    "    def mouse_click(self):\n",
    "        pyautogui.click()\n",
    "\n",
    "    def mouse_double_click(self):\n",
    "        pyautogui.doubleClick()\n",
    "\n",
    "    def mouse_right_click(self):\n",
    "        pyautogui.rightClick()\n",
    "\n",
    "    def mouse_move(self):\n",
    "        pyautogui.moveTo(300, 300)\n",
    "\n",
    "root = tk.Tk()\n",
    "app = MouseActionApp(root)\n",
    "root.mainloop()\n"
   ]
  },
  {
   "cell_type": "markdown",
   "metadata": {},
   "source": [
    "#### RANSAC algorithm"
   ]
  },
  {
   "cell_type": "code",
   "execution_count": 2,
   "metadata": {},
   "outputs": [],
   "source": [
    "def align_images(image1, image2):\n",
    "    # Convert the images to grayscale\n",
    "    gray1 = cv2.cvtColor(image1, cv2.COLOR_BGR2GRAY)\n",
    "    gray2 = cv2.cvtColor(image2, cv2.COLOR_BGR2GRAY)\n",
    "\n",
    "    # Detect keypoints and extract local invariant descriptors from the images\n",
    "    orb = cv2.ORB_create()\n",
    "    keypoints1, descriptors1 = orb.detectAndCompute(gray1, None)\n",
    "    keypoints2, descriptors2 = orb.detectAndCompute(gray2, None)\n",
    "\n",
    "    # Match features between the two images using a brute force matcher\n",
    "    bf = cv2.BFMatcher(cv2.NORM_HAMMING, crossCheck=True)\n",
    "    matches = bf.match(descriptors1, descriptors2)\n",
    "\n",
    "    # Convert the keypoints to numpy arrays\n",
    "    points1 = np.float32([keypoints1[m.queryIdx].pt for m in matches]).reshape(-1, 1, 2)\n",
    "    points2 = np.float32([keypoints2[m.trainIdx].pt for m in matches]).reshape(-1, 1, 2)\n",
    "\n",
    "    # Run RANSAC to estimate the homography matrix\n",
    "    H, _ = cv2.findHomography(points1, points2, cv2.RANSAC)\n",
    "\n",
    "    # Warp image 1 to align with image 2\n",
    "    aligned_image = cv2.warpPerspective(image1, H, (image1.shape[1], image1.shape[0]))\n",
    "\n",
    "    return aligned_image\n",
    "\n",
    "\n",
    "# Load the two images to be aligned\n",
    "image1 = cv2.imread(\"img1.jpg\")\n",
    "image2 = cv2.imread(\"img2.jpg\")\n",
    "\n",
    "# Align the two images using RANSAC\n",
    "aligned_image = align_images(image1, image2)\n",
    "\n",
    "# Display the aligned image\n",
    "cv2.imshow(\"Aligned Image\", aligned_image)\n",
    "cv2.waitKey(0)\n",
    "cv2.destroyAllWindows()\n"
   ]
  }
 ],
 "metadata": {
  "kernelspec": {
   "display_name": "Python 3",
   "language": "python",
   "name": "python3"
  },
  "language_info": {
   "codemirror_mode": {
    "name": "ipython",
    "version": 3
   },
   "file_extension": ".py",
   "mimetype": "text/x-python",
   "name": "python",
   "nbconvert_exporter": "python",
   "pygments_lexer": "ipython3",
   "version": "3.10.10"
  },
  "orig_nbformat": 4,
  "vscode": {
   "interpreter": {
    "hash": "5604e7158d187150e1d489782589586ce54aa3b62a185b719329b048775d925a"
   }
  }
 },
 "nbformat": 4,
 "nbformat_minor": 2
}
